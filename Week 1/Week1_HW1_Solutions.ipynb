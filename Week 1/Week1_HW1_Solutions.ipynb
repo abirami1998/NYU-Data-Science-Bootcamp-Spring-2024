{
  "nbformat": 4,
  "nbformat_minor": 0,
  "metadata": {
    "colab": {
      "provenance": []
    },
    "kernelspec": {
      "name": "python3",
      "display_name": "Python 3"
    },
    "language_info": {
      "name": "python"
    }
  },
  "cells": [
    {
      "cell_type": "markdown",
      "source": [
        "1. Write a function  count_vowels(word) that takes a word as an argument and returns the number of vowels in the word\n",
        "\n"
      ],
      "metadata": {
        "id": "KIRpfDeYpOvC"
      }
    },
    {
      "cell_type": "code",
      "source": [
        "def count_vowels(word):\n",
        "    vowels = \"aeiouAEIOU\"\n",
        "    count = 0\n",
        "    for char in word:\n",
        "        if char in vowels:\n",
        "            count += 1\n",
        "    return count\n",
        "\n",
        "word=\"DataScienceBootcamp\"\n",
        "print(count_vowels(word))"
      ],
      "metadata": {
        "colab": {
          "base_uri": "https://localhost:8080/"
        },
        "id": "XBDw9TlOpRBA",
        "outputId": "263bb537-6a3e-4524-a9ea-44c5ead31a39"
      },
      "execution_count": 1,
      "outputs": [
        {
          "output_type": "stream",
          "name": "stdout",
          "text": [
            "8\n"
          ]
        }
      ]
    },
    {
      "cell_type": "markdown",
      "source": [
        "2. Iterate through the following list of animals and print each one in all caps.\n",
        "\n",
        "  animals=['tiger', 'elephant', 'monkey', 'zebra', 'panther']"
      ],
      "metadata": {
        "id": "YNzNPJSDp1nw"
      }
    },
    {
      "cell_type": "code",
      "source": [
        "animals=['tiger', 'elephant', 'monkey', 'zebra', 'panther']\n",
        "for animal in animals:\n",
        "    print(animal.upper())\n"
      ],
      "metadata": {
        "colab": {
          "base_uri": "https://localhost:8080/"
        },
        "id": "92KUndDtpjT5",
        "outputId": "bd0349af-05bc-4fd4-c6cc-1a0367dc9b13"
      },
      "execution_count": 2,
      "outputs": [
        {
          "output_type": "stream",
          "name": "stdout",
          "text": [
            "TIGER\n",
            "ELEPHANT\n",
            "MONKEY\n",
            "ZEBRA\n",
            "PANTHER\n"
          ]
        }
      ]
    },
    {
      "cell_type": "markdown",
      "source": [
        "3. Write a program that iterates from 1 to 20, printing each number and whether it's odd or even."
      ],
      "metadata": {
        "id": "bdqgMFuOqCo2"
      }
    },
    {
      "cell_type": "code",
      "source": [
        "for num in range(1, 21):\n",
        "    if num % 2 == 0:\n",
        "        print(f\"{num} is even\")\n",
        "    else:\n",
        "        print(f\"{num} is odd\")\n"
      ],
      "metadata": {
        "colab": {
          "base_uri": "https://localhost:8080/"
        },
        "id": "7DaTjkXcp9Mo",
        "outputId": "92615630-ffb6-4950-a6fc-19d4454c4f7c"
      },
      "execution_count": 3,
      "outputs": [
        {
          "output_type": "stream",
          "name": "stdout",
          "text": [
            "1 is odd\n",
            "2 is even\n",
            "3 is odd\n",
            "4 is even\n",
            "5 is odd\n",
            "6 is even\n",
            "7 is odd\n",
            "8 is even\n",
            "9 is odd\n",
            "10 is even\n",
            "11 is odd\n",
            "12 is even\n",
            "13 is odd\n",
            "14 is even\n",
            "15 is odd\n",
            "16 is even\n",
            "17 is odd\n",
            "18 is even\n",
            "19 is odd\n",
            "20 is even\n"
          ]
        }
      ]
    },
    {
      "cell_type": "markdown",
      "source": [
        "4. Write a function sum_of_integers(a, b) that takes two integers as input from the user and returns their sum."
      ],
      "metadata": {
        "id": "RQQ2STIVqLBk"
      }
    },
    {
      "cell_type": "code",
      "source": [
        "def sum_of_integers(a, b):\n",
        "    return a + b\n",
        "\n",
        "# Example usage:\n",
        "num1 = int(input(\"Enter the first integer: \"))  #Integer datatype enforced\n",
        "num2 = int(input(\"Enter the second integer: \"))\n",
        "print(\"The sum is:\", sum_of_integers(num1, num2))\n"
      ],
      "metadata": {
        "colab": {
          "base_uri": "https://localhost:8080/"
        },
        "id": "FKKuI2ddqGpV",
        "outputId": "a38feab4-eb72-413a-87ae-93e07fef201c"
      },
      "execution_count": 4,
      "outputs": [
        {
          "output_type": "stream",
          "name": "stdout",
          "text": [
            "Enter the first integer: 22\n",
            "Enter the second integer: 22\n",
            "The sum is: 44\n"
          ]
        }
      ]
    },
    {
      "cell_type": "code",
      "source": [],
      "metadata": {
        "id": "V9myLvejqVcL"
      },
      "execution_count": null,
      "outputs": []
    }
  ]
}