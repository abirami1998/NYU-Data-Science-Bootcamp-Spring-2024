{
  "nbformat": 4,
  "nbformat_minor": 0,
  "metadata": {
    "colab": {
      "provenance": []
    },
    "kernelspec": {
      "name": "python3",
      "display_name": "Python 3"
    },
    "language_info": {
      "name": "python"
    }
  },
  "cells": [
    {
      "cell_type": "markdown",
      "source": [
        "\n",
        "\n",
        "1) From the DataFrame df, filter the 'Manufacturer', 'Model', and 'Type' for every 20th row starting from the 1st row (row 0):\n",
        "\n"
      ],
      "metadata": {
        "id": "pyBX1Xjs_jp_"
      }
    },
    {
      "cell_type": "code",
      "source": [
        "import pandas as pd\n",
        "\n",
        "# Read the DataFrame from the provided URL\n",
        "df = pd.read_csv('https://raw.githubusercontent.com/selva86/datasets/master/Cars93_miss.csv')\n",
        "\n",
        "# Filter the 'Manufacturer', 'Model', and 'Type' columns for every 20th row starting from the 1st row\n",
        "filtered_df = df.loc[::20, ['Manufacturer', 'Model', 'Type']]\n",
        "\n",
        "print(filtered_df)"
      ],
      "metadata": {
        "colab": {
          "base_uri": "https://localhost:8080/"
        },
        "id": "SPqdBwIq_pJ3",
        "outputId": "37871327-bda5-422b-eed4-3661238848f7"
      },
      "execution_count": 1,
      "outputs": [
        {
          "output_type": "stream",
          "name": "stdout",
          "text": [
            "   Manufacturer    Model     Type\n",
            "0         Acura  Integra    Small\n",
            "20     Chrysler  LeBaron  Compact\n",
            "40        Honda  Prelude   Sporty\n",
            "60      Mercury   Cougar  Midsize\n",
            "80       Subaru   Loyale    Small\n"
          ]
        }
      ]
    },
    {
      "cell_type": "markdown",
      "source": [
        "2) Replace missing values in Min.Price and Max.Price columns with their respective mean"
      ],
      "metadata": {
        "id": "xJ_ezq5v_MSp"
      }
    },
    {
      "cell_type": "code",
      "source": [
        "\n",
        "df['Min.Price'].fillna(df['Min.Price'].mean(), inplace=True)\n",
        "df['Max.Price'].fillna(df['Max.Price'].mean(), inplace=True)\n",
        "print(df[['Min.Price', 'Max.Price']])\n"
      ],
      "metadata": {
        "colab": {
          "base_uri": "https://localhost:8080/"
        },
        "id": "sQeVYYIY_rw7",
        "outputId": "10dd37a9-829f-434f-dac0-96e107acdcc1"
      },
      "execution_count": 2,
      "outputs": [
        {
          "output_type": "stream",
          "name": "stdout",
          "text": [
            "    Min.Price  Max.Price\n",
            "0   12.900000  18.800000\n",
            "1   29.200000  38.700000\n",
            "2   25.900000  32.300000\n",
            "3   17.118605  44.600000\n",
            "4   17.118605  21.459091\n",
            "..        ...        ...\n",
            "88  16.600000  22.700000\n",
            "89  17.600000  22.400000\n",
            "90  22.900000  23.700000\n",
            "91  21.800000  23.500000\n",
            "92  24.800000  28.500000\n",
            "\n",
            "[93 rows x 2 columns]\n"
          ]
        }
      ]
    },
    {
      "cell_type": "markdown",
      "source": [
        "3)How to get the rows of a dataframe with row sum > 100?\n",
        "df = pd.DataFrame(np.random.randint(10, 40, 60).reshape(-1, 4))"
      ],
      "metadata": {
        "id": "UhanNusn_lMv"
      }
    },
    {
      "cell_type": "code",
      "source": [
        "import numpy as np\n",
        "df = pd.DataFrame(np.random.randint(10, 40, 60).reshape(-1, 4))\n",
        "print(df)\n",
        "row_sum_gt_100 = df[df.sum(axis=1) > 100]\n",
        "print(row_sum_gt_100)"
      ],
      "metadata": {
        "colab": {
          "base_uri": "https://localhost:8080/"
        },
        "id": "QZX6W8iF_bZX",
        "outputId": "f828c712-b64b-4308-9382-586c39f7b12d"
      },
      "execution_count": 5,
      "outputs": [
        {
          "output_type": "stream",
          "name": "stdout",
          "text": [
            "     0   1   2   3\n",
            "0   32  22  28  36\n",
            "1   12  36  28  27\n",
            "2   22  34  38  29\n",
            "3   27  13  24  28\n",
            "4   35  28  12  31\n",
            "5   14  14  37  26\n",
            "6   20  36  34  31\n",
            "7   29  21  12  18\n",
            "8   10  38  25  13\n",
            "9   19  39  14  19\n",
            "10  39  17  28  12\n",
            "11  28  38  31  22\n",
            "12  20  31  14  12\n",
            "13  18  15  23  36\n",
            "14  15  21  26  12\n",
            "     0   1   2   3\n",
            "0   32  22  28  36\n",
            "1   12  36  28  27\n",
            "2   22  34  38  29\n",
            "4   35  28  12  31\n",
            "6   20  36  34  31\n",
            "11  28  38  31  22\n"
          ]
        }
      ]
    },
    {
      "cell_type": "markdown",
      "source": [
        "4) Create a 4x4 NumPy array filled with random integers between 1 and 100. Then, reshape this array into two separate 2D arrays, where one represents the rows and the other represents the columns. Write a function, preferably using a lambda function, to calculate the sum of each row and each column separately, and return the results as two separate NumPy arrays:"
      ],
      "metadata": {
        "id": "8_keQ9GKBI-o"
      }
    },
    {
      "cell_type": "code",
      "source": [
        "# Creating a 4x4 NumPy array filled with random integers between 1 and 100\n",
        "data = np.random.randint(1, 101, (4, 4))\n",
        "\n",
        "# Reshaping the array into separate arrays representing rows and columns\n",
        "rows = data.reshape(4, 4)\n",
        "columns = data.T.reshape(4, 4)\n",
        "\n",
        "# Defining a lambda function to calculate the sum of rows and columns. Notice the axis\n",
        "sum_rows = lambda array: np.sum(array, axis=1)\n",
        "sum_columns = lambda array: np.sum(array, axis=1)\n",
        "\n",
        "# Calculate the sum of each row and column separately\n",
        "sum_of_rows = sum_rows(rows)\n",
        "sum_of_columns = sum_columns(columns)\n",
        "\n",
        "print(\" Original Array:\",data)\n",
        "print(\"Sum of rows:\", sum_of_rows)\n",
        "print(\"Sum of columns:\", sum_of_columns)\n"
      ],
      "metadata": {
        "colab": {
          "base_uri": "https://localhost:8080/"
        },
        "id": "hJMvJNmo_308",
        "outputId": "91fa15ae-6098-41c8-f2e1-b3a137d72df0"
      },
      "execution_count": 11,
      "outputs": [
        {
          "output_type": "stream",
          "name": "stdout",
          "text": [
            " Original Array: [[  2  60  48  81]\n",
            " [ 79  68  86  93]\n",
            " [ 34  43  55  19]\n",
            " [ 91  42  85 100]]\n",
            "Sum of rows: [191 326 151 318]\n",
            "Sum of columns: [206 213 274 293]\n"
          ]
        }
      ]
    },
    {
      "cell_type": "code",
      "source": [],
      "metadata": {
        "id": "qvEnjWdeBYKA"
      },
      "execution_count": null,
      "outputs": []
    }
  ]
}